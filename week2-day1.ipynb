{
 "cells": [
  {
   "cell_type": "code",
   "execution_count": 2,
   "id": "229457ba",
   "metadata": {},
   "outputs": [
    {
     "name": "stdout",
     "output_type": "stream",
     "text": [
      "[2, 3, 5, 7, 11, 13, 17, 19]\n"
     ]
    }
   ],
   "source": [
    "#prime number finder\n",
    "def prime_numbers(n):\n",
    "    primes = []\n",
    "    for num in range(2, n+1):\n",
    "        is_prime = True\n",
    "        for i in range(2, num): \n",
    "            if num % i == 0:\n",
    "                is_prime = False\n",
    "                break\n",
    "        if is_prime:\n",
    "            primes.append(num)\n",
    "    return primes\n",
    "\n",
    "n=int(input())\n",
    "print(prime_numbers(n))\n"
   ]
  },
  {
   "cell_type": "code",
   "execution_count": null,
   "id": "a03cfe4f",
   "metadata": {},
   "outputs": [
    {
     "data": {
      "text/plain": [
       "True"
      ]
     },
     "execution_count": 4,
     "metadata": {},
     "output_type": "execute_result"
    }
   ],
   "source": [
    "#palindrome checker\n",
    "def is_palindrome(s):\n",
    "    if s==s[::-1]:\n",
    "        return True\n",
    "    return False\n",
    "s=str(input())\n",
    "print(is_palindrome(s))\n"
   ]
  },
  {
   "cell_type": "code",
   "execution_count": 5,
   "id": "71c6a35d",
   "metadata": {},
   "outputs": [
    {
     "name": "stdout",
     "output_type": "stream",
     "text": [
      "True\n"
     ]
    }
   ],
   "source": [
    "#anagram checker\n",
    "def are_anagrams(x,y):\n",
    "    if sorted(x)==sorted(y):\n",
    "        return True\n",
    "    return False\n",
    "s=str(input())\n",
    "t=str(input())\n",
    "print(are_anagrams(s,t))"
   ]
  },
  {
   "cell_type": "code",
   "execution_count": null,
   "id": "6e7b2368",
   "metadata": {},
   "outputs": [
    {
     "name": "stdout",
     "output_type": "stream",
     "text": [
      "vowels 2\n",
      "consonants 3\n",
      "None\n"
     ]
    }
   ],
   "source": [
    "#count of vowels and consonants\n",
    "def count_vow(s):\n",
    "    v=0\n",
    "    c=0\n",
    "    for i in s:\n",
    "        if i in 'aeiouAEIOU':\n",
    "            v+=1\n",
    "        else:\n",
    "            c+=1\n",
    "    print(\"vowels\",v)\n",
    "    print(\"consonants\",c)\n",
    "    \n",
    "s=str(input())\n",
    "print(count_vow(s))\n"
   ]
  },
  {
   "cell_type": "code",
   "execution_count": 12,
   "id": "030dee67",
   "metadata": {},
   "outputs": [
    {
     "name": "stdout",
     "output_type": "stream",
     "text": [
      "hello\n"
     ]
    }
   ],
   "source": [
    "#Longest word finder\n",
    "def longest_word(s):\n",
    "    list1=s.split(\" \")\n",
    "    max1=0\n",
    "    maxs=\"\"\n",
    "    for i in list1:\n",
    "        if len(i)> max1:\n",
    "            max1=len(i)\n",
    "            maxs=i\n",
    "    return maxs\n",
    "s=str(input())\n",
    "print(longest_word(s))\n",
    "\n"
   ]
  },
  {
   "cell_type": "code",
   "execution_count": 16,
   "id": "75b807d2",
   "metadata": {},
   "outputs": [
    {
     "name": "stdout",
     "output_type": "stream",
     "text": [
      "your password ;nFb\n"
     ]
    }
   ],
   "source": [
    "#Random password generator\n",
    "import random\n",
    "import string\n",
    "length=int(input(\"Enter length\"))\n",
    "char=string.ascii_letters+string.digits+string.punctuation\n",
    "password=''.join(random.choice(char)for _ in range(length))\n",
    "print(\"your password\",password)\n"
   ]
  },
  {
   "cell_type": "code",
   "execution_count": 21,
   "id": "d7538d28",
   "metadata": {},
   "outputs": [
    {
     "name": "stdout",
     "output_type": "stream",
     "text": [
      "5.0\n"
     ]
    }
   ],
   "source": [
    "#simple calculator\n",
    "import math\n",
    "\n",
    "def sqrt(n):\n",
    "    return math.sqrt(n)\n",
    "def fact(n):\n",
    "    return math.factorial(n)\n",
    "def sin(n):\n",
    "    return math.sin(math.radians(n))\n",
    "def cos(n):\n",
    "    return math.cos(math.radians(n))\n",
    "n=int(input(\"enter number\"))\n",
    "choice=int(input(\"enter 1-4\"))\n",
    "if(choice==1):\n",
    "    print(sqrt(n))\n",
    "elif(choice==2):\n",
    "    print(fact(int(n)))\n",
    "elif(choice==3):\n",
    "    print(sin(n))\n",
    "elif(choice==4):\n",
    "    print(cos(n))\n",
    "else:\n",
    "    print(\"Invalid\")\n",
    "\n"
   ]
  },
  {
   "cell_type": "code",
   "execution_count": 25,
   "id": "633a39c6",
   "metadata": {},
   "outputs": [
    {
     "name": "stdout",
     "output_type": "stream",
     "text": [
      "Counter({'cat': 2, 'dog': 1})\n"
     ]
    }
   ],
   "source": [
    "#word frequency\n",
    "from collections import Counter\n",
    "words=input().split()\n",
    "c=Counter(words)\n",
    "print(c)"
   ]
  },
  {
   "cell_type": "code",
   "execution_count": null,
   "id": "db0cb0bf",
   "metadata": {},
   "outputs": [],
   "source": []
  }
 ],
 "metadata": {
  "kernelspec": {
   "display_name": "Python 3",
   "language": "python",
   "name": "python3"
  },
  "language_info": {
   "codemirror_mode": {
    "name": "ipython",
    "version": 3
   },
   "file_extension": ".py",
   "mimetype": "text/x-python",
   "name": "python",
   "nbconvert_exporter": "python",
   "pygments_lexer": "ipython3",
   "version": "3.11.13"
  }
 },
 "nbformat": 4,
 "nbformat_minor": 5
}
