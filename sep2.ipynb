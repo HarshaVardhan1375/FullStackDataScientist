{
 "cells": [
  {
   "cell_type": "code",
   "execution_count": 1,
   "id": "46f5554c",
   "metadata": {},
   "outputs": [
    {
     "name": "stdout",
     "output_type": "stream",
     "text": [
      "2 is prime\n"
     ]
    }
   ],
   "source": [
    "#prime\n",
    "num=int(input())\n",
    "if num>1:\n",
    "    for i in range(2,num):\n",
    "        if(num%i==0):\n",
    "            print( num,\"is not prime\")\n",
    "            break\n",
    "    else:\n",
    "        print(num,\"is prime\")\n",
    "else:\n",
    "    print(num,\"is not prime\")"
   ]
  },
  {
   "cell_type": "code",
   "execution_count": null,
   "id": "98cf9a19",
   "metadata": {},
   "outputs": [
    {
     "name": "stdout",
     "output_type": "stream",
     "text": [
      "3\n"
     ]
    }
   ],
   "source": [
    "\n",
    "#2nd max\n",
    "a=list(map(int,input().split()))\n",
    "a.sort()\n",
    "print(a[-2])"
   ]
  },
  {
   "cell_type": "code",
   "execution_count": null,
   "id": "17c7fff8",
   "metadata": {},
   "outputs": [
    {
     "name": "stdout",
     "output_type": "stream",
     "text": [
      "650\n"
     ]
    }
   ],
   "source": [
    "#sum of even\n",
    "s=0\n",
    "for num in range(1,51):\n",
    "    if num%2==0:\n",
    "        s+=num\n",
    "print(s)"
   ]
  },
  {
   "cell_type": "code",
   "execution_count": null,
   "id": "341abe6f",
   "metadata": {},
   "outputs": [
    {
     "name": "stdout",
     "output_type": "stream",
     "text": [
      "2\n",
      "3\n"
     ]
    }
   ],
   "source": [
    "#lower and upper case\n",
    "s=str(input())\n",
    "lc=0\n",
    "uc=0\n",
    "for i in s:\n",
    "    if i.islower():\n",
    "        lc+=1\n",
    "    elif i.isupper():\n",
    "        uc+=1\n",
    "\n",
    "print(lc)\n",
    "print(uc)\n"
   ]
  },
  {
   "cell_type": "code",
   "execution_count": null,
   "id": "8bbb7246",
   "metadata": {},
   "outputs": [
    {
     "name": "stdout",
     "output_type": "stream",
     "text": [
      "cheapestis: 4583\n"
     ]
    }
   ],
   "source": [
    "#gym membership\n",
    "months=int(input(\"enter\"))\n",
    "cost1=months*500\n",
    "cost2=(months/6)*2700\n",
    "cost3=(months/12)*5000\n",
    "cheap=min(cost1,cost2,cost3)\n",
    "print(\"cheapestis:\",int(cheap))"
   ]
  },
  {
   "cell_type": "code",
   "execution_count": null,
   "id": "47bb2e47",
   "metadata": {},
   "outputs": [
    {
     "name": "stdout",
     "output_type": "stream",
     "text": [
      "8\n"
     ]
    }
   ],
   "source": [
    "#fibonacci\n",
    "def fib(n):\n",
    "    if n==0:\n",
    "        return 0\n",
    "    elif n==1:\n",
    "        return 1\n",
    "    else:\n",
    "        return fib(n-1)+fib(n-2)\n",
    "print(fib(6))"
   ]
  },
  {
   "cell_type": "code",
   "execution_count": null,
   "id": "9f0c0176",
   "metadata": {},
   "outputs": [
    {
     "name": "stdout",
     "output_type": "stream",
     "text": [
      "not anagram\n"
     ]
    }
   ],
   "source": [
    "#anagrams\n",
    "s1=str(input())\n",
    "s2=str(input())\n",
    "if sorted(s1)==sorted(s2):\n",
    "    print(\"anagram\")\n",
    "else:\n",
    "    print(\"not anagram\")"
   ]
  },
  {
   "cell_type": "code",
   "execution_count": null,
   "id": "00f8ee1f",
   "metadata": {},
   "outputs": [
    {
     "name": "stdout",
     "output_type": "stream",
     "text": [
      "perfect number\n"
     ]
    }
   ],
   "source": [
    "#perfect number\n",
    "n=int(input())\n",
    "s=0\n",
    "for i in range(1,n):\n",
    "    if n%i==0:\n",
    "        s+=i\n",
    "if s==n:\n",
    "    print(\"perfect number\")\n",
    "else:\n",
    "    print(\"not a perfect\")"
   ]
  },
  {
   "cell_type": "code",
   "execution_count": null,
   "id": "e9bf38f7",
   "metadata": {},
   "outputs": [
    {
     "name": "stdout",
     "output_type": "stream",
     "text": [
      "percenatge 4.0\n",
      "fail\n"
     ]
    }
   ],
   "source": [
    "#percentage\n",
    "sum=0\n",
    "for num in range(1,6):\n",
    "    mark=int(input())\n",
    "    sum+=mark\n",
    "percentage=sum/5\n",
    "print(\"percenatge\",percentage)\n",
    "if percentage>=90:\n",
    "    print(\"A\")\n",
    "elif percentage>=75:\n",
    "    print(\"B\")\n",
    "elif percentage>=65:\n",
    "    print(\"C\")\n",
    "elif percentage>=55:\n",
    "    print(\"D\")\n",
    "else:\n",
    "    print(\"fail\")\n",
    "    \n"
   ]
  },
  {
   "cell_type": "code",
   "execution_count": null,
   "id": "fc996371",
   "metadata": {},
   "outputs": [
    {
     "name": "stdout",
     "output_type": "stream",
     "text": [
      "2 3 5 7 11 13 17 19 23 29 31 37 41 43 47 53 59 61 67 71 73 79 83 89 97 "
     ]
    }
   ],
   "source": [
    "#total primes range of 100\n",
    "for num in range(2, 101):   \n",
    "    is_prime = True\n",
    "    for i in range(2, num):\n",
    "        if num % i == 0:\n",
    "            is_prime = False\n",
    "            break\n",
    "    if is_prime:\n",
    "        print(num, end=\" \")\n"
   ]
  },
  {
   "cell_type": "code",
   "execution_count": null,
   "id": "d65d425a",
   "metadata": {},
   "outputs": [
    {
     "name": "stdout",
     "output_type": "stream",
     "text": [
      "2\n"
     ]
    }
   ],
   "source": [
    "#total words\n",
    "s=input()\n",
    "c=1\n",
    "for ch in s:\n",
    "    if ch==\" \":\n",
    "        c+=1\n",
    "\n",
    "print(c)"
   ]
  },
  {
   "cell_type": "code",
   "execution_count": null,
   "id": "d4a5f566",
   "metadata": {},
   "outputs": [
    {
     "name": "stdout",
     "output_type": "stream",
     "text": [
      "final price 80.0\n"
     ]
    }
   ],
   "source": [
    "#discount\n",
    "p=int(input(\"Enter price:\"))\n",
    "a=int(input(\"enter age:\"))\n",
    "s=bool(input())\n",
    "if(s):\n",
    "    p=p-(p*0.2)\n",
    "    print(\"final price\",p)\n",
    "    \n",
    "elif a>=60:\n",
    "    p=p-(p*0.1)\n",
    "    print(\"final price\",p)\n"
   ]
  },
  {
   "cell_type": "code",
   "execution_count": null,
   "id": "1443ceee",
   "metadata": {},
   "outputs": [
    {
     "name": "stdout",
     "output_type": "stream",
     "text": [
      "549\n"
     ]
    }
   ],
   "source": [
    "#total\n",
    "total=int(input())\n",
    "if(total<500):\n",
    "    total=total+50\n",
    "print(total)"
   ]
  },
  {
   "cell_type": "code",
   "execution_count": null,
   "id": "1639c4fc",
   "metadata": {},
   "outputs": [
    {
     "name": "stdout",
     "output_type": "stream",
     "text": [
      "total amount: 770.0\n"
     ]
    }
   ],
   "source": [
    "#total bill\n",
    "bill=int(input())\n",
    "amount=0\n",
    "if(bill<500):\n",
    "    amount=bill+(bill*0.05)\n",
    "elif bill>500 and bill<1000:\n",
    "    amount=bill+(bill*0.1)\n",
    "print(\"total amount:\",amount)"
   ]
  },
  {
   "cell_type": "code",
   "execution_count": null,
   "id": "9be1b166",
   "metadata": {},
   "outputs": [
    {
     "name": "stdout",
     "output_type": "stream",
     "text": [
      "Attendance: 125.0 %\n",
      "Eligible for exam \n"
     ]
    }
   ],
   "source": [
    "#attendance\n",
    "total = int(input(\"Enter total classes held: \"))\n",
    "attended = int(input(\"Enter classes attended: \"))\n",
    "attendance = (attended / total) * 100\n",
    "print(\"Attendance:\", attendance, \"%\")\n",
    "if attendance >= 75:\n",
    "    print(\"Eligible for exam \")\n",
    "else:\n",
    "    print(\"Not Eligible for exam \")\n",
    "\n"
   ]
  },
  {
   "cell_type": "code",
   "execution_count": null,
   "id": "bbaacd0f",
   "metadata": {},
   "outputs": [
    {
     "name": "stdout",
     "output_type": "stream",
     "text": [
      "successful\n"
     ]
    }
   ],
   "source": [
    "#ATM\n",
    "money=int(input())\n",
    "if money%100==0:\n",
    "    print(\"successful\")\n",
    "else:\n",
    "    print(\"not successful\")"
   ]
  },
  {
   "cell_type": "code",
   "execution_count": null,
   "id": "871288f2",
   "metadata": {},
   "outputs": [
    {
     "name": "stdout",
     "output_type": "stream",
     "text": [
      "fine is 50\n"
     ]
    }
   ],
   "source": [
    "#fine\n",
    "late_days=int(input())\n",
    "if late_days>3 and late_days<5:\n",
    "    print(\"fine is 10\")\n",
    "elif late_days>6 and late_days<10:\n",
    "    print(\"fine is 50\")\n",
    "elif late_days>10:\n",
    "    print(\"fine is 100\")\n",
    "    "
   ]
  },
  {
   "cell_type": "code",
   "execution_count": null,
   "id": "f9b8f306",
   "metadata": {},
   "outputs": [
    {
     "name": "stdout",
     "output_type": "stream",
     "text": [
      "Bill amount: ₹ 640\n"
     ]
    }
   ],
   "source": [
    "#current bill\n",
    "units = int(input(\"Enter units consumed: \"))\n",
    "\n",
    "bill = 0\n",
    "\n",
    "if units <= 100:\n",
    "    bill = units * 5\n",
    "elif units <= 200:\n",
    "    bill = (100 * 5) + (units - 100) * 7\n",
    "else:\n",
    "    bill = (100 * 5) + (100 * 7) + (units - 200) * 10\n",
    "\n",
    "print(\"Bill amount: ₹\", bill)\n"
   ]
  },
  {
   "cell_type": "code",
   "execution_count": null,
   "id": "97e3875a",
   "metadata": {},
   "outputs": [
    {
     "name": "stdout",
     "output_type": "stream",
     "text": [
      "Nice weather, go out!\n"
     ]
    }
   ],
   "source": [
    "#temperature\n",
    "temp = int(input(\"Enter temperature: \"))\n",
    "\n",
    "if temp > 35:\n",
    "    print(\"Too hot, stay indoors!\")\n",
    "elif 20 <= temp <= 35:\n",
    "    print(\"Nice weather, go out!\")\n",
    "else:\n",
    "    print(\"It’s cold, wear warm clothes!\")\n"
   ]
  },
  {
   "cell_type": "code",
   "execution_count": 5,
   "id": "5af25397",
   "metadata": {},
   "outputs": [
    {
     "name": "stdout",
     "output_type": "stream",
     "text": [
      "60\n"
     ]
    }
   ],
   "source": [
    "#item bill\n",
    "prices=0\n",
    "quan=0\n",
    "bill=0\n",
    "for i in range(3):\n",
    "    prices=int(input(\"enter price\"))\n",
    "    quan=int(input(\"enter item quantity\"))\n",
    "    bill+=prices*quan\n",
    "print(bill)"
   ]
  },
  {
   "cell_type": "code",
   "execution_count": 7,
   "id": "73358a47",
   "metadata": {},
   "outputs": [
    {
     "name": "stdout",
     "output_type": "stream",
     "text": [
      "Addition: 15\n",
      "Subtraction: 5\n",
      "Multiplication: 50\n",
      "Division: 2.0\n",
      "Floor: 2\n"
     ]
    }
   ],
   "source": [
    "#arithmetic operations\n",
    "def add(x,y):\n",
    "    return x+y\n",
    "def sub(x,y):\n",
    "    return x-y\n",
    "def mul(x,y):\n",
    "    return x*y\n",
    "def div(x,y):\n",
    "    return x/y\n",
    "def floor(x,y):\n",
    "    return x//y\n",
    "\n",
    "a=int(input(\"Enter a value\"))\n",
    "b=int(input(\"Enter b value\"))\n",
    "print(\"Addition:\",add(a,b))\n",
    "print(\"Subtraction:\",sub(a,b))\n",
    "print(\"Multiplication:\",mul(a,b))\n",
    "print(\"Division:\",div(a,b))\n",
    "print(\"Floor:\",floor(a,b))"
   ]
  },
  {
   "cell_type": "code",
   "execution_count": 8,
   "id": "7987bd71",
   "metadata": {},
   "outputs": [
    {
     "name": "stdout",
     "output_type": "stream",
     "text": [
      "GRADE A\n"
     ]
    }
   ],
   "source": [
    "A=int(input(\"Enter marks:\"))\n",
    "if(A>=90):\n",
    "    print(\"GRADE A+\")\n",
    "elif(A>=80):\n",
    "    print(\"GRADE A\")\n",
    "elif(A>=70):\n",
    "    print(\"GRADE B\")\n",
    "elif(A>=60):\n",
    "    print(\"GRADE C\")\n",
    "else:\n",
    "    print(\"Fail\")\n"
   ]
  },
  {
   "cell_type": "code",
   "execution_count": 10,
   "id": "19b3b707",
   "metadata": {},
   "outputs": [
    {
     "name": "stdout",
     "output_type": "stream",
     "text": [
      "10\n",
      "2\n",
      "4.8\n"
     ]
    }
   ],
   "source": [
    "a=list(map(int,input().split()))\n",
    "print(max(a))\n",
    "print(min(a))\n",
    "avg=sum(a)/len(a)\n",
    "print(avg)"
   ]
  },
  {
   "cell_type": "code",
   "execution_count": 12,
   "id": "4625545a",
   "metadata": {},
   "outputs": [
    {
     "name": "stdout",
     "output_type": "stream",
     "text": [
      "Found\n"
     ]
    }
   ],
   "source": [
    "Phonebook = {\"Suhel\": 9876543210, \"Ravi\": 9123456780, \"Anita\": 9988776655}\n",
    "s=str(input())\n",
    "if(s in Phonebook):\n",
    "    print(\"Found\")\n",
    "else:\n",
    "    print(\"Not Found\")"
   ]
  },
  {
   "cell_type": "code",
   "execution_count": null,
   "id": "80b8b827",
   "metadata": {},
   "outputs": [
    {
     "name": "stdout",
     "output_type": "stream",
     "text": [
      "No of Characters 9\n",
      "No of words 1\n",
      "No of vowels 0\n"
     ]
    }
   ],
   "source": [
    "s=input()\n",
    "count=0\n",
    "count1=0\n",
    "for ch in s:\n",
    "    if ch==\" \":\n",
    "        count+=1\n",
    "    if c in \"AEIOUaeiou\":\n",
    "        count1+=1\n",
    "print(\"No of Characters\",len(s))\n",
    "print(\"No of words\",count+1)\n",
    "print(\"No of vowels\",count1)"
   ]
  },
  {
   "cell_type": "code",
   "execution_count": 28,
   "id": "cbabbc0a",
   "metadata": {},
   "outputs": [
    {
     "name": "stdout",
     "output_type": "stream",
     "text": [
      "Simple Interest = 20.0\n"
     ]
    }
   ],
   "source": [
    "P=int(input(\"Enter principal\"))\n",
    "R=int(input(\"Enter rate\"))\n",
    "T=int(input(\"enter time\"))\n",
    "interest=input()\n",
    "if interest.lower() == \"simple\":\n",
    "    SI = (P * R * T) / 100\n",
    "    print(\"Simple Interest =\", SI)\n",
    "\n",
    "elif interest.lower() == \"compound\":\n",
    "    CI = P * ((1 + R / 100) ** T) - P\n",
    "    print(\"Compound Interest =\", CI)\n",
    "\n",
    "else:\n",
    "    print(\"Invalid interest type entered!\")    "
   ]
  },
  {
   "cell_type": "code",
   "execution_count": 29,
   "id": "29d2d24f",
   "metadata": {},
   "outputs": [
    {
     "name": "stdout",
     "output_type": "stream",
     "text": [
      "Encrypted Message: jgnnq\n"
     ]
    }
   ],
   "source": [
    "message = input(\"Enter message: \")\n",
    "shift = int(input(\"Enter shift key: \"))\n",
    "\n",
    "encrypted = \"\"\n",
    "\n",
    "for ch in message:\n",
    "    if ch.isalpha():  \n",
    "       \n",
    "        if ch.isupper():\n",
    "            encrypted += chr((ord(ch) - 65 + shift) % 26 + 65)\n",
    "      \n",
    "        else:\n",
    "            encrypted += chr((ord(ch) - 97 + shift) % 26 + 97)\n",
    "    else:\n",
    "       \n",
    "        encrypted += ch\n",
    "\n",
    "print(\"Encrypted Message:\", encrypted)\n"
   ]
  },
  {
   "cell_type": "code",
   "execution_count": 30,
   "id": "131d3235",
   "metadata": {},
   "outputs": [
    {
     "name": "stdout",
     "output_type": "stream",
     "text": [
      "pin verified\n",
      "Withdraw successful\n",
      "Remaining balance 3800\n"
     ]
    }
   ],
   "source": [
    "pin=1234\n",
    "bal=5000\n",
    "pin2=int(input(\"Enter pin\"))\n",
    "if pin==pin2:\n",
    "    print(\"pin verified\")\n",
    "    withdraw=int(input(\"Enter amount:\"))\n",
    "    if(withdraw<=bal):\n",
    "        bal-=withdraw\n",
    "        print(\"Withdraw successful\")\n",
    "        print(\"Remaining balance\",bal)\n",
    "    else:\n",
    "        print(\"insufficient bal\")\n",
    "else:\n",
    "    print(\"invalid pin\")"
   ]
  },
  {
   "cell_type": "code",
   "execution_count": 32,
   "id": "26bf419a",
   "metadata": {},
   "outputs": [
    {
     "name": "stdout",
     "output_type": "stream",
     "text": [
      "['Python Basics', 'AI Fundamentals', 'Machine Learning']\n"
     ]
    }
   ],
   "source": [
    "Books = [\"Python Basics\", \"Data Science\", \"AI Fundamentals\"]\n",
    "Books.append(\"Machine Learning\")\n",
    "Books.remove(\"Data Science\")\n",
    "print(Books)\n"
   ]
  }
 ],
 "metadata": {
  "kernelspec": {
   "display_name": "Python 3",
   "language": "python",
   "name": "python3"
  },
  "language_info": {
   "codemirror_mode": {
    "name": "ipython",
    "version": 3
   },
   "file_extension": ".py",
   "mimetype": "text/x-python",
   "name": "python",
   "nbconvert_exporter": "python",
   "pygments_lexer": "ipython3",
   "version": "3.11.13"
  }
 },
 "nbformat": 4,
 "nbformat_minor": 5
}
