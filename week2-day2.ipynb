{
 "cells": [
  {
   "cell_type": "code",
   "execution_count": null,
   "id": "c07bdfbd",
   "metadata": {},
   "outputs": [
    {
     "name": "stdout",
     "output_type": "stream",
     "text": [
      "invalid pass\n"
     ]
    }
   ],
   "source": [
    "#valid password checker\n",
    "import string\n",
    "pwd=str(input())\n",
    "if(len(pwd)>=8):\n",
    "    has_letter=any(ch in string.ascii_letters for ch in pwd)\n",
    "    has_pun=any(ch in string.punctuation for ch in pwd)\n",
    "    has_dig=any(ch in string.digits for ch in pwd)\n",
    "    if has_letter and has_dig and has_pun in pwd:\n",
    "        print(\"valid password\")\n",
    "    else:\n",
    "        print(\"invalid pass\")\n",
    "else:\n",
    "    print(\"invalid pass\")"
   ]
  },
  {
   "cell_type": "code",
   "execution_count": 3,
   "id": "35adbc79",
   "metadata": {},
   "outputs": [
    {
     "name": "stdout",
     "output_type": "stream",
     "text": [
      "15\n"
     ]
    }
   ],
   "source": [
    "#calculator\n",
    "import math\n",
    "def add(x,y):\n",
    "    return x+y\n",
    "def sub(x,y):\n",
    "    return x-y\n",
    "def mul(x,y):\n",
    "    return x*y\n",
    "def div(x,y):\n",
    "    if(y==0):\n",
    "        return -1\n",
    "    else:\n",
    "        return x/y\n",
    "a=int(input())\n",
    "b=int(input())\n",
    "c=int(input())\n",
    "if(c==1):\n",
    "    print(add(a,b))\n",
    "if(c==2):\n",
    "    print(sub(a,b))\n",
    "if(c==3):\n",
    "    print(mul(a,b))\n",
    "if(c==4):\n",
    "    print(div(a,b))\n",
    "    \n"
   ]
  },
  {
   "cell_type": "code",
   "execution_count": 1,
   "id": "9f68572d",
   "metadata": {},
   "outputs": [
    {
     "name": "stdout",
     "output_type": "stream",
     "text": [
      "Duplicate students name ['hi']\n"
     ]
    }
   ],
   "source": [
    "#duplicates in list\n",
    "students=input().split()\n",
    "duplicate=[]\n",
    "for name in students:\n",
    "    if students.count(name)>1 and name not in duplicate:\n",
    "        duplicate.append(name)\n",
    "print(\"Duplicate students name\",duplicate)"
   ]
  },
  {
   "cell_type": "code",
   "execution_count": 2,
   "id": "40399a5c",
   "metadata": {},
   "outputs": [
    {
     "name": "stdout",
     "output_type": "stream",
     "text": [
      "212.0\n"
     ]
    }
   ],
   "source": [
    "def to_fahrenheit(c):\n",
    "    return (c*(9/5))+32\n",
    "n=int(input())\n",
    "print(to_fahrenheit(n))\n"
   ]
  },
  {
   "cell_type": "code",
   "execution_count": null,
   "id": "d66ce438",
   "metadata": {},
   "outputs": [
    {
     "name": "stdout",
     "output_type": "stream",
     "text": [
      "4\n"
     ]
    }
   ],
   "source": [
    "#max\n",
    "a=list(map(int,input().split()))\n",
    "b=a[0]\n",
    "for i in a:\n",
    "    if i>b:\n",
    "        b=i\n",
    "print(b)"
   ]
  },
  {
   "cell_type": "code",
   "execution_count": 10,
   "id": "b519e540",
   "metadata": {},
   "outputs": [
    {
     "name": "stdout",
     "output_type": "stream",
     "text": [
      "10.0\n"
     ]
    }
   ],
   "source": [
    "#Simple intrest\n",
    "p=int(input(\"Enter principle\"))\n",
    "t=int(input(\"Enter time\"))\n",
    "r=int(input(\"Enter rate\"))\n",
    "si=(p*t*r)/100\n",
    "print(si)\n"
   ]
  },
  {
   "cell_type": "code",
   "execution_count": 14,
   "id": "a03c50c6",
   "metadata": {},
   "outputs": [
    {
     "name": "stdout",
     "output_type": "stream",
     "text": [
      "defaulters ['uday']\n"
     ]
    }
   ],
   "source": [
    "#Attendance\n",
    "n=int(input(\"Enter number of students\"))\n",
    "students={}\n",
    "for _  in range(n):\n",
    "    name=input(\"Enter name\")\n",
    "    attendance=int(input(f\"Enter attendance % of{name}:\"))\n",
    "    students[name]=attendance\n",
    "default=[]\n",
    "i=len(students)\n",
    "for name,attendance in students.items():\n",
    "    if attendance<75:\n",
    "        default.append(name)\n",
    "print(\"defaulters\",default)"
   ]
  },
  {
   "cell_type": "code",
   "execution_count": 16,
   "id": "23c95cef",
   "metadata": {},
   "outputs": [
    {
     "name": "stdout",
     "output_type": "stream",
     "text": [
      "10\n"
     ]
    }
   ],
   "source": [
    "#sum of digits\n",
    "n=int(input())\n",
    "s=0\n",
    "\n",
    "while(n>0):\n",
    "    d=n%10\n",
    "    s+=d\n",
    "    n//=10\n",
    "print(s)"
   ]
  },
  {
   "cell_type": "code",
   "execution_count": 18,
   "id": "5e01be30",
   "metadata": {},
   "outputs": [
    {
     "name": "stdout",
     "output_type": "stream",
     "text": [
      "num is prime\n"
     ]
    }
   ],
   "source": [
    "#prime\n",
    "num=int(input())\n",
    "if num>1:\n",
    "    for i in range(2,num):\n",
    "        if(num%i==0):\n",
    "            print(\"Not prime\")\n",
    "            break\n",
    "        else:\n",
    "            print(\"num is prime\")\n",
    "            break\n",
    "else:\n",
    "    print(\"num is not prime\")\n"
   ]
  },
  {
   "cell_type": "code",
   "execution_count": 20,
   "id": "f27ea4a1",
   "metadata": {},
   "outputs": [
    {
     "name": "stdout",
     "output_type": "stream",
     "text": [
      "4 max\n",
      "1 min\n"
     ]
    }
   ],
   "source": [
    "#min max\n",
    "a=list(map(int,input().split()))\n",
    "b=a[0]\n",
    "for i in a:\n",
    "    if i>b:\n",
    "        b=i\n",
    "print(b,\"max\")\n",
    "\n",
    "for i in a:\n",
    "    if i<b:\n",
    "        b=i\n",
    "print(b,\"min\")\n",
    "\n"
   ]
  },
  {
   "cell_type": "code",
   "execution_count": null,
   "id": "b838335a",
   "metadata": {},
   "outputs": [],
   "source": [
    "#bill\n",
    "a=int(input())\n",
    "items={}\n",
    "for _ in range(a):\n",
    "    item=input(\"enter item name\")\n",
    "    price=int(input(\"enter price\"))\n",
    "    items[name]=price   \n"
   ]
  }
 ],
 "metadata": {
  "kernelspec": {
   "display_name": "Python 3",
   "language": "python",
   "name": "python3"
  },
  "language_info": {
   "codemirror_mode": {
    "name": "ipython",
    "version": 3
   },
   "file_extension": ".py",
   "mimetype": "text/x-python",
   "name": "python",
   "nbconvert_exporter": "python",
   "pygments_lexer": "ipython3",
   "version": "3.11.13"
  }
 },
 "nbformat": 4,
 "nbformat_minor": 5
}
